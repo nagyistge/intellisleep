{
 "cells": [
  {
   "cell_type": "code",
   "execution_count": null,
   "metadata": {
    "collapsed": false
   },
   "outputs": [],
   "source": [
    "import sys\n",
    "import serial\n",
    "import signal\n",
    "#import random\n",
    "from threading import Thread"
   ]
  },
  {
   "cell_type": "code",
   "execution_count": null,
   "metadata": {
    "collapsed": false
   },
   "outputs": [],
   "source": [
    "def get_input(channel):\n",
    "    return received[channel].averaged_value()\n",
    "\n",
    "def signal_handler(signal, frame):\n",
    "    ser.close()\n",
    "    print( 'closed port. exit.' )\n",
    "    sys.exit(0)\n",
    "\n",
    "def init_serial():\n",
    "    ser = serial.Serial(port = PORT, baudrate = BAUD_RATE)\n",
    "    signal.signal(signal.SIGINT, signal_handler)\n",
    "    return ser\n",
    "\n",
    "PORT = '/dev/ttyACM3'\n",
    "BAUD_RATE = 9600\n",
    "NUM_CHANNELS = 6\n",
    "\n",
    "WIDTH, HEIGHT = 800, 600\n",
    "SIZE = (WIDTH, HEIGHT)\n",
    "BLACK = (0,0,0)\n",
    "RED = (255,0,0)\n",
    "\n",
    "ser = init_serial()\n",
    "#serial_thread = Thread(target=receive_data)\n",
    "#serial_thread.daemon = True\n",
    "#serial_thread.start()"
   ]
  },
  {
   "cell_type": "code",
   "execution_count": null,
   "metadata": {
    "collapsed": false
   },
   "outputs": [],
   "source": [
    "def receiving(ser):\n",
    "    global last_received\n",
    "    buffer = ''\n",
    "\n",
    "    while True:\n",
    "        buffer += ser.read(ser.inWaiting()).decode(\"utf-8\")\n",
    "        if '\\n' in buffer:\n",
    "            last_received, buffer = buffer.split('\\n')[-2:]\n",
    "\n",
    "Thread(target=receiving, args=(ser,)).start()"
   ]
  },
  {
   "cell_type": "code",
   "execution_count": null,
   "metadata": {
    "collapsed": false
   },
   "outputs": [],
   "source": [
    "import time\n",
    "data = []\n",
    "\n",
    "for i in range(1000):\n",
    "    data += last_received\n",
    "    time.sleep(0.01)"
   ]
  },
  {
   "cell_type": "code",
   "execution_count": null,
   "metadata": {
    "collapsed": false
   },
   "outputs": [],
   "source": []
  },
  {
   "cell_type": "code",
   "execution_count": null,
   "metadata": {
    "collapsed": false
   },
   "outputs": [],
   "source": [
    "with open(\"lucas-2.log\", \"w\") as f:\n",
    "    f.write(data)"
   ]
  },
  {
   "cell_type": "code",
   "execution_count": null,
   "metadata": {
    "collapsed": false
   },
   "outputs": [],
   "source": [
    "def serial_input(timeout=1000):\n",
    "    global last_received\n",
    "    try:\n",
    "        #ser.reset_input_buffer()\n",
    "        rec = last_received\n",
    "        index = 0\n",
    "        data = [int(i) for i in rec.split(';')[:-1]]\n",
    "        #print(data)\n",
    "\n",
    "        #mins = data[::3]\n",
    "        #maxs = data[2::3]\n",
    "        #vals = data[1::3]\n",
    "        mins = []\n",
    "        maxs = []\n",
    "        vals = data\n",
    "        return mins, maxs, vals\n",
    "    except:\n",
    "        return [], [], []\n",
    "\n",
    "_,_,vals = serial_input()\n",
    "\n",
    "print(vals)"
   ]
  },
  {
   "cell_type": "code",
   "execution_count": null,
   "metadata": {
    "collapsed": false
   },
   "outputs": [],
   "source": [
    "data = []\n",
    "for i in range(1000):\n",
    "    _,_,vals = serial_input()\n",
    "    data.append(vals)\n",
    "    time.sleep(0.1)"
   ]
  },
  {
   "cell_type": "code",
   "execution_count": null,
   "metadata": {
    "collapsed": false
   },
   "outputs": [],
   "source": [
    "import numpy as np\n",
    "import pandas as pd\n",
    "\n",
    "np.array(data)\n",
    "pd.DataFrame(data).to_csv(\"lucas.csv\")\n"
   ]
  },
  {
   "cell_type": "code",
   "execution_count": null,
   "metadata": {
    "collapsed": true
   },
   "outputs": [],
   "source": []
  },
  {
   "cell_type": "code",
   "execution_count": null,
   "metadata": {
    "collapsed": false
   },
   "outputs": [],
   "source": [
    "from IPython import display\n",
    "import seaborn as sns\n",
    "from pylab import *\n",
    "import time\n",
    "\n",
    "%matplotlib inline\n",
    "\n",
    "def get_data():\n",
    "    vals = []\n",
    "    while not (len(vals) == 6):\n",
    "        _,_,vals = serial_input()\n",
    "    \n",
    "    return range(6), np.array(vals) / 1023.\n",
    "\n",
    "x = []\n",
    "y = []\n",
    "#offset = None\n",
    "\n",
    "#mins = np.zeros((6,)) + 1000\n",
    "#maxs = np.zeros((6,)) + 0.01\n",
    "\n",
    "for i in range(1000):\n",
    "    x, y = get_data()\n",
    "    if i == 0:\n",
    "        print(\"set offset\")\n",
    "        offset = y.copy()\n",
    "    y -= offset\n",
    "    mins = np.minimum(y, mins)\n",
    "    maxs = np.maximum(y, maxs)\n",
    "    y = (y - mins) / (maxs - mins)\n",
    "    \n",
    "    if i % 10:\n",
    "        plt.gca().cla() \n",
    "        plt.plot(x,y[::-1],label='test',marker=\"x\")\n",
    "        plt.legend()\n",
    "        plt.xticks(x)\n",
    "        plt.yticks([0,1])\n",
    "        display.clear_output(wait=True)\n",
    "        display.display(plt.gcf())\n",
    "        #display.display(y)\n",
    "        #display.display(offset)\n",
    "        #display.display(mins)\n",
    "        #display.display(maxs)\n",
    "        time.sleep(0.5)\n",
    "        "
   ]
  },
  {
   "cell_type": "code",
   "execution_count": null,
   "metadata": {
    "collapsed": false
   },
   "outputs": [],
   "source": [
    "ser.close()"
   ]
  }
 ],
 "metadata": {
  "kernelspec": {
   "display_name": "Python 3",
   "language": "python",
   "name": "python3"
  },
  "language_info": {
   "codemirror_mode": {
    "name": "ipython",
    "version": 3
   },
   "file_extension": ".py",
   "mimetype": "text/x-python",
   "name": "python",
   "nbconvert_exporter": "python",
   "pygments_lexer": "ipython3",
   "version": "3.5.2"
  }
 },
 "nbformat": 4,
 "nbformat_minor": 0
}
