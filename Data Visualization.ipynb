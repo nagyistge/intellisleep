{
 "cells": [
  {
   "cell_type": "code",
   "execution_count": 3,
   "metadata": {
    "collapsed": true
   },
   "outputs": [],
   "source": [
    "from skimage.io import imread\n",
    "from bokeh.charts import HeatMap, output_notebook\n",
    "import numpy as np\n",
    "import seaborn as sns\n",
    "from pylab import *\n",
    "%matplotlib inline"
   ]
  },
  {
   "cell_type": "code",
   "execution_count": null,
   "metadata": {
    "collapsed": true
   },
   "outputs": [],
   "source": [
    "img = imread(\"body.png\")\n",
    "data = {'fruit': ['apples']*3 + ['bananas']*3 + ['pears']*3,\n",
    "        'fruit_count': [4, 5, 8, 1, 2, 4, 6, 5, 4],\n",
    "        'sample': [1, 2, 3]*3}\n",
    "\n",
    "hm = HeatMap(data, x='fruit', y='sample', values='fruit_count',\n",
    "             title='Fruits', stat=None)\n",
    "\n",
    "#output_file('heatmap.html')\n",
    "output_notebook()\n",
    "show(hm)"
   ]
  },
  {
   "cell_type": "code",
   "execution_count": 90,
   "metadata": {
    "collapsed": false
   },
   "outputs": [
    {
     "data": {
      "text/plain": [
       "<matplotlib.image.AxesImage at 0x7fee34785978>"
      ]
     },
     "execution_count": 90,
     "metadata": {},
     "output_type": "execute_result"
    },
    {
     "data": {
      "image/png": "[encoded data removed]",
      "text/plain": [
       "<matplotlib.figure.Figure at 0x7fee34856668>"
      ]
     },
     "metadata": {},
     "output_type": "display_data"
    }
   ],
   "source": [
    "img = (imread(\"body.png\"))\n",
    "\n",
    "img[img < 0.25] = 0\n",
    "img[img > 0.75] = 1\n",
    "img[(img > 0.25) & (img < 0.75)] = 0.5\n",
    "\n",
    "imshow(img)"
   ]
  },
  {
   "cell_type": "code",
   "execution_count": 29,
   "metadata": {
    "collapsed": false
   },
   "outputs": [
    {
     "data": {
      "text/plain": [
       "<matplotlib.image.AxesImage at 0x7fee36715550>"
      ]
     },
     "execution_count": 29,
     "metadata": {},
     "output_type": "execute_result"
    },
    {
     "data": {
      "image/png": "[encoded data removed]",
      "text/plain": [
       "<matplotlib.figure.Figure at 0x7fee39095048>"
      ]
     },
     "metadata": {},
     "output_type": "display_data"
    }
   ],
   "source": [
    "from skimage.filters import gaussian\n",
    "\n",
    "heatmap = zeros((568,367))\n",
    "heatmap[100,100] = 1\n",
    "heatmap = gaussian(heatmap, 10)\n",
    "\n",
    "imshow(heatmap)"
   ]
  },
  {
   "cell_type": "code",
   "execution_count": 116,
   "metadata": {
    "collapsed": false
   },
   "outputs": [
    {
     "data": {
      "image/png": "[encoded data removed]",
      "text/plain": [
       "<matplotlib.figure.Figure at 0x7fee34c3beb8>"
      ]
     },
     "metadata": {},
     "output_type": "display_data"
    }
   ],
   "source": [
    "from skimage.io import imread\n",
    "from bokeh.charts import HeatMap, output_notebook\n",
    "import numpy as np\n",
    "import seaborn as sns\n",
    "from pylab import *\n",
    "%matplotlib inline\n",
    "\n",
    "def plot_heatmap(pressure_vals, sigma=25., shape=(568,367)):\n",
    "    heatmap = zeros(shape)\n",
    "    \n",
    "    # map sensor to position in the heatmap\n",
    "    positions = {\"head\" : (221,79),\n",
    "                 \"shoulder_left\":(189,150),\n",
    "                 \"shoulder_right\":(255,150),\n",
    "                 \"bottom_left\" : (190,290),\n",
    "                 \"bottom_right\" : (250,290),\n",
    "                 \"leg_left\" : (188,421),\n",
    "                 \"leg_right\" : (256,421),\n",
    "                 \"foot_left\" : (194,509),\n",
    "                 \"foot_right\" : (256, 509)\n",
    "                }\n",
    "    \n",
    "    sensor2pos = {0 : (\"head\",),\n",
    "                  1: (\"shoulder_left\", \"shoulder_right\"),\n",
    "                  2: (\"bottom_left\",\"bottom_right\"),\n",
    "                  3: (\"leg_left\", \"leg_right\"),\n",
    "                  4: (\"foot_left\", \"foot_right\"),\n",
    "                  5: (),\n",
    "                 }\n",
    "    \n",
    "    for i in sensor2pos.keys():\n",
    "        for sensor in sensor2pos[i]:\n",
    "            p = positions[sensor]\n",
    "            newpos = zeros((568,367))\n",
    "            newpos[p[1], p[0]] += 1\n",
    "            heatmap += gaussian(newpos, sigma)     \n",
    "            \n",
    "    return np.float64(heatmap / heatmap.max())\n",
    "\n",
    "def show_pressuremap():\n",
    "    img = (imread(\"body.png\"))\n",
    "\n",
    "    img[img < 0.25] = 0\n",
    "    img[img > 0.75] = 1\n",
    "    img[(img > 0.25) & (img < 0.75)] = 0.5\n",
    "\n",
    "    heat = 0.8 * (plot_heatmap(np.ones(6,)))\n",
    "    #img[img == 1] = 0\n",
    "    img[img == 0.5] = heat[img == 0.5]\n",
    "    imshow(img, cmap=\"Blues\")\n",
    "    axis(\"off\")\n",
    "    title(\"Pressure Distribution\")\n",
    "    \n",
    "show_pressuremap()"
   ]
  }
 ],
 "metadata": {
  "kernelspec": {
   "display_name": "Python 3",
   "language": "python",
   "name": "python3"
  },
  "language_info": {
   "codemirror_mode": {
    "name": "ipython",
    "version": 3
   },
   "file_extension": ".py",
   "mimetype": "text/x-python",
   "name": "python",
   "nbconvert_exporter": "python",
   "pygments_lexer": "ipython3",
   "version": "3.5.2"
  }
 },
 "nbformat": 4,
 "nbformat_minor": 0
}
